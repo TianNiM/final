{
 "cells": [
  {
   "cell_type": "markdown",
   "metadata": {},
   "source": [
    "## Using nltk to analyze each instagram caption"
   ]
  },
  {
   "cell_type": "code",
   "execution_count": 1,
   "metadata": {
    "collapsed": false
   },
   "outputs": [
    {
     "name": "stdout",
     "output_type": "stream",
     "text": [
      "/Users/yutian/Desktop/final/data/instagram.db\n"
     ]
    }
   ],
   "source": [
    "import os\n",
    "import nltk\n",
    "from pathlib import Path\n",
    "from pandas import Series, DataFrame\n",
    "import pandas as pd\n",
    "import matplotlib.pyplot as plt\n",
    "\n",
    "p = Path(os.getcwd())\n",
    "database_path=str(p.parent)+'/data/instagram.db'\n",
    "print(database_path)"
   ]
  },
  {
   "cell_type": "code",
   "execution_count": 2,
   "metadata": {
    "collapsed": false
   },
   "outputs": [
    {
     "data": {
      "text/html": [
       "<div>\n",
       "<table border=\"1\" class=\"dataframe\">\n",
       "  <thead>\n",
       "    <tr style=\"text-align: right;\">\n",
       "      <th></th>\n",
       "      <th>id</th>\n",
       "      <th>account</th>\n",
       "      <th>filter</th>\n",
       "      <th>likes</th>\n",
       "      <th>comments</th>\n",
       "      <th>caption</th>\n",
       "      <th>timestamp</th>\n",
       "    </tr>\n",
       "  </thead>\n",
       "  <tbody>\n",
       "    <tr>\n",
       "      <th>0</th>\n",
       "      <td>31044</td>\n",
       "      <td>murphyoilusa</td>\n",
       "      <td>Valencia</td>\n",
       "      <td>7</td>\n",
       "      <td>0</td>\n",
       "      <td>Elvis is in the building at Murphy Express 855...</td>\n",
       "      <td>140109 11:17</td>\n",
       "    </tr>\n",
       "    <tr>\n",
       "      <th>1</th>\n",
       "      <td>32057</td>\n",
       "      <td>murphyoilusa</td>\n",
       "      <td>Normal</td>\n",
       "      <td>5</td>\n",
       "      <td>0</td>\n",
       "      <td>Cool tanker! #murphyusa</td>\n",
       "      <td>140129 11:40</td>\n",
       "    </tr>\n",
       "    <tr>\n",
       "      <th>2</th>\n",
       "      <td>6359</td>\n",
       "      <td>murphyoilusa</td>\n",
       "      <td>Rise</td>\n",
       "      <td>6</td>\n",
       "      <td>0</td>\n",
       "      <td>Looking up! #murphyusa</td>\n",
       "      <td>121205 12:11</td>\n",
       "    </tr>\n",
       "    <tr>\n",
       "      <th>3</th>\n",
       "      <td>6347</td>\n",
       "      <td>murphyoilusa</td>\n",
       "      <td>Hefe</td>\n",
       "      <td>4</td>\n",
       "      <td>0</td>\n",
       "      <td>Quick Strike Energy! #murphyusa</td>\n",
       "      <td>121205 12:23</td>\n",
       "    </tr>\n",
       "    <tr>\n",
       "      <th>4</th>\n",
       "      <td>6351</td>\n",
       "      <td>murphyoilusa</td>\n",
       "      <td>X-Pro II</td>\n",
       "      <td>4</td>\n",
       "      <td>0</td>\n",
       "      <td>Look out, it's Super Murph! #murphyusa</td>\n",
       "      <td>121205 12:16</td>\n",
       "    </tr>\n",
       "  </tbody>\n",
       "</table>\n",
       "</div>"
      ],
      "text/plain": [
       "      id       account    filter  likes  comments  \\\n",
       "0  31044  murphyoilusa  Valencia      7         0   \n",
       "1  32057  murphyoilusa    Normal      5         0   \n",
       "2   6359  murphyoilusa      Rise      6         0   \n",
       "3   6347  murphyoilusa      Hefe      4         0   \n",
       "4   6351  murphyoilusa  X-Pro II      4         0   \n",
       "\n",
       "                                             caption     timestamp  \n",
       "0  Elvis is in the building at Murphy Express 855...  140109 11:17  \n",
       "1                            Cool tanker! #murphyusa  140129 11:40  \n",
       "2                             Looking up! #murphyusa  121205 12:11  \n",
       "3                    Quick Strike Energy! #murphyusa  121205 12:23  \n",
       "4             Look out, it's Super Murph! #murphyusa  121205 12:16  "
      ]
     },
     "execution_count": 2,
     "metadata": {},
     "output_type": "execute_result"
    }
   ],
   "source": [
    "import sqlite3\n",
    "\n",
    "connection = sqlite3.connect(database_path)\n",
    "instagram_data = pd.io.sql.read_sql(\"SELECT * FROM instagram;\", con=connection)\n",
    "instagram_data.head()"
   ]
  },
  {
   "cell_type": "code",
   "execution_count": 3,
   "metadata": {
    "collapsed": false
   },
   "outputs": [
    {
     "data": {
      "text/plain": [
       "215.0"
      ]
     },
     "execution_count": 3,
     "metadata": {},
     "output_type": "execute_result"
    }
   ],
   "source": [
    "instagram_data['focus'] = instagram_data.likes + instagram_data.comments\n",
    "instagram_data['focus'].median()"
   ]
  },
  {
   "cell_type": "code",
   "execution_count": 4,
   "metadata": {
    "collapsed": false
   },
   "outputs": [
    {
     "data": {
      "text/html": [
       "<div>\n",
       "<table border=\"1\" class=\"dataframe\">\n",
       "  <thead>\n",
       "    <tr style=\"text-align: right;\">\n",
       "      <th></th>\n",
       "      <th>account</th>\n",
       "      <th>caption</th>\n",
       "      <th>timestamp</th>\n",
       "      <th>focus</th>\n",
       "    </tr>\n",
       "  </thead>\n",
       "  <tbody>\n",
       "    <tr>\n",
       "      <th>11330</th>\n",
       "      <td>nike</td>\n",
       "      <td>One giant step for man. #justdoit@nicolasmuell...</td>\n",
       "      <td>140514 13:39</td>\n",
       "      <td>263026</td>\n",
       "    </tr>\n",
       "    <tr>\n",
       "      <th>11349</th>\n",
       "      <td>nike</td>\n",
       "      <td>Teach the world what your country taught you. ...</td>\n",
       "      <td>140612 15:31</td>\n",
       "      <td>252340</td>\n",
       "    </tr>\n",
       "    <tr>\n",
       "      <th>11353</th>\n",
       "      <td>nike</td>\n",
       "      <td>When your country rises, raise the volume. #ju...</td>\n",
       "      <td>140614 09:00</td>\n",
       "      <td>238977</td>\n",
       "    </tr>\n",
       "    <tr>\n",
       "      <th>11344</th>\n",
       "      <td>nike</td>\n",
       "      <td>Don�t let anything come between where you are ...</td>\n",
       "      <td>140605 17:30</td>\n",
       "      <td>232250</td>\n",
       "    </tr>\n",
       "    <tr>\n",
       "      <th>11196</th>\n",
       "      <td>nike</td>\n",
       "      <td>We can't live without Air.It's been 27 years s...</td>\n",
       "      <td>140325 21:00</td>\n",
       "      <td>217502</td>\n",
       "    </tr>\n",
       "    <tr>\n",
       "      <th>11213</th>\n",
       "      <td>nike</td>\n",
       "      <td>You did everything you could. Now do everythin...</td>\n",
       "      <td>140202 18:07</td>\n",
       "      <td>206829</td>\n",
       "    </tr>\n",
       "    <tr>\n",
       "      <th>11184</th>\n",
       "      <td>nike</td>\n",
       "      <td>An undersized QB shouldn't play so big. Runnin...</td>\n",
       "      <td>140203 00:24</td>\n",
       "      <td>197644</td>\n",
       "    </tr>\n",
       "    <tr>\n",
       "      <th>11346</th>\n",
       "      <td>nike</td>\n",
       "      <td>When the dust settles, your legacy remains. #j...</td>\n",
       "      <td>140608 12:45</td>\n",
       "      <td>197357</td>\n",
       "    </tr>\n",
       "    <tr>\n",
       "      <th>11204</th>\n",
       "      <td>nike</td>\n",
       "      <td>Take the necessary steps. #justdoitOne month t...</td>\n",
       "      <td>140430 18:08</td>\n",
       "      <td>195816</td>\n",
       "    </tr>\n",
       "    <tr>\n",
       "      <th>11335</th>\n",
       "      <td>nike</td>\n",
       "      <td>You never know where the next step will take y...</td>\n",
       "      <td>140522 23:08</td>\n",
       "      <td>194088</td>\n",
       "    </tr>\n",
       "  </tbody>\n",
       "</table>\n",
       "</div>"
      ],
      "text/plain": [
       "      account                                            caption  \\\n",
       "11330    nike  One giant step for man. #justdoit@nicolasmuell...   \n",
       "11349    nike  Teach the world what your country taught you. ...   \n",
       "11353    nike  When your country rises, raise the volume. #ju...   \n",
       "11344    nike  Don�t let anything come between where you are ...   \n",
       "11196    nike  We can't live without Air.It's been 27 years s...   \n",
       "11213    nike  You did everything you could. Now do everythin...   \n",
       "11184    nike  An undersized QB shouldn't play so big. Runnin...   \n",
       "11346    nike  When the dust settles, your legacy remains. #j...   \n",
       "11204    nike  Take the necessary steps. #justdoitOne month t...   \n",
       "11335    nike  You never know where the next step will take y...   \n",
       "\n",
       "          timestamp   focus  \n",
       "11330  140514 13:39  263026  \n",
       "11349  140612 15:31  252340  \n",
       "11353  140614 09:00  238977  \n",
       "11344  140605 17:30  232250  \n",
       "11196  140325 21:00  217502  \n",
       "11213  140202 18:07  206829  \n",
       "11184  140203 00:24  197644  \n",
       "11346  140608 12:45  197357  \n",
       "11204  140430 18:08  195816  \n",
       "11335  140522 23:08  194088  "
      ]
     },
     "execution_count": 4,
     "metadata": {},
     "output_type": "execute_result"
    }
   ],
   "source": [
    "instagram_data=instagram_data[['account','caption','timestamp','focus']]\n",
    "instagram_data.sort_values(by='focus',ascending=0)[:10]"
   ]
  },
  {
   "cell_type": "code",
   "execution_count": 8,
   "metadata": {
    "collapsed": false
   },
   "outputs": [
    {
     "name": "stdout",
     "output_type": "stream",
     "text": [
      "<class 'str'>\n"
     ]
    }
   ],
   "source": [
    "# Top 10 most common words\n",
    "\n",
    "caption_word=instagram_data.caption.apply(lambda x:x+\"\").sum()\n",
    "caption_word=caption_word.lower()\n",
    "print(type(caption_word))\n",
    "\n",
    "\n"
   ]
  },
  {
   "cell_type": "code",
   "execution_count": 9,
   "metadata": {
    "collapsed": false
   },
   "outputs": [
    {
     "data": {
      "text/plain": [
       "[('the', 20104),\n",
       " ('to', 11402),\n",
       " ('a', 9861),\n",
       " ('and', 9104),\n",
       " ('of', 8660),\n",
       " ('in', 8494),\n",
       " ('for', 7976),\n",
       " ('at', 6239),\n",
       " ('with', 5298),\n",
       " ('our', 5104)]"
      ]
     },
     "execution_count": 9,
     "metadata": {},
     "output_type": "execute_result"
    }
   ],
   "source": [
    "from collections import Counter\n",
    "Counter(caption_word.split()).most_common()[:10]"
   ]
  },
  {
   "cell_type": "code",
   "execution_count": 13,
   "metadata": {
    "collapsed": false
   },
   "outputs": [
    {
     "data": {
      "text/plain": [
       "[('new', 1892),\n",
       " ('&', 1382),\n",
       " ('us', 1324),\n",
       " ('day', 1277),\n",
       " ('one', 1049),\n",
       " ('-', 1003),\n",
       " ('photo', 988),\n",
       " ('get', 975),\n",
       " ('like', 832),\n",
       " ('see', 821),\n",
       " ('today', 782),\n",
       " ('great', 711),\n",
       " ('love', 711),\n",
       " ('check', 651),\n",
       " ('look', 636),\n",
       " ('ready', 606),\n",
       " ('favorite', 602),\n",
       " ('thanks', 591),\n",
       " ('make', 585),\n",
       " ('stores', 581)]"
      ]
     },
     "execution_count": 13,
     "metadata": {},
     "output_type": "execute_result"
    }
   ],
   "source": [
    "#Top 10 most common non-stopwords\n",
    "stopwords = [str(word) for word in nltk.corpus.stopwords.words('english')]\n",
    "title_words = [word for word in caption_word.split() if word.lower() not in stopwords]\n",
    "Counter(title_words).most_common()[:20]"
   ]
  },
  {
   "cell_type": "code",
   "execution_count": 15,
   "metadata": {
    "collapsed": false
   },
   "outputs": [
    {
     "data": {
      "text/plain": [
       "[(('ralph', 'lauren'), 0.0008344199649826469),\n",
       " (('chance', 'win'), 0.000707135563544616),\n",
       " (('stores', 'online'), 0.0006449076339526898),\n",
       " ((\"who's\", 'copping?'), 0.0005232803170230158),\n",
       " (('foot', 'locker'), 0.0005091376057521235),\n",
       " (('show', 'us'), 0.00045822384517691116),\n",
       " (('#kohls', 'shop'), 0.00036771049304320033),\n",
       " (('thanks', 'sharing'), 0.00036488195078902185),\n",
       " (('#letsdothis', '#homedepot'), 0.00035073923951812954),\n",
       " (('air', 'jordan'), 0.0003394250705014157),\n",
       " (('take', 'pledge'), 0.00032528235923052335),\n",
       " (('new', 'york'), 0.0003224538169763449),\n",
       " (('lauren', 'collection'), 0.00028851130992620333),\n",
       " (('pledge', 'today'), 0.0002687115141469541),\n",
       " (('stores', 'online.'), 0.0002658829718927756),\n",
       " (('copping?', '#approved'), 0.00025456880287606174),\n",
       " (('locker', 'unlocked'), 0.00025456880287606174),\n",
       " (('photo', 'day'), 0.00025456880287606174),\n",
       " (('double', 'tap'), 0.0002517402606218833),\n",
       " (('tell', 'us'), 0.00024608317611352635)]"
      ]
     },
     "execution_count": 15,
     "metadata": {},
     "output_type": "execute_result"
    }
   ],
   "source": [
    "bigram_measures = nltk.collocations.BigramAssocMeasures()\n",
    "bigram_finder = nltk.collocations.BigramCollocationFinder.from_words(title_words)\n",
    "\n",
    "# Filter to only bigrams that appear 20+ times\n",
    "bigram_finder.apply_freq_filter(20)\n",
    "\n",
    "bigram_finder.score_ngrams(bigram_measures.raw_freq)[:20]"
   ]
  },
  {
   "cell_type": "code",
   "execution_count": 16,
   "metadata": {
    "collapsed": false
   },
   "outputs": [
    {
     "data": {
      "text/plain": [
       "[('numbers', 'kohls.com:'),\n",
       " ('operation', 'lifesaver'),\n",
       " ('iheart', 'radio'),\n",
       " ('los', 'angeles'),\n",
       " ('item', 'numbers'),\n",
       " ('betty', 'crocker'),\n",
       " ('#styles', '#outfit'),\n",
       " ('#girl', '#girls'),\n",
       " ('#slopestyle', '#xgscene'),\n",
       " ('#tagsforlikes', '#me')]"
      ]
     },
     "execution_count": 16,
     "metadata": {},
     "output_type": "execute_result"
    }
   ],
   "source": [
    "bigram_finder.nbest(bigram_measures.pmi, 10)"
   ]
  },
  {
   "cell_type": "code",
   "execution_count": null,
   "metadata": {
    "collapsed": true
   },
   "outputs": [],
   "source": []
  }
 ],
 "metadata": {
  "kernelspec": {
   "display_name": "Python 3",
   "language": "python",
   "name": "python3"
  },
  "language_info": {
   "codemirror_mode": {
    "name": "ipython",
    "version": 3
   },
   "file_extension": ".py",
   "mimetype": "text/x-python",
   "name": "python",
   "nbconvert_exporter": "python",
   "pygments_lexer": "ipython3",
   "version": "3.6.0"
  }
 },
 "nbformat": 4,
 "nbformat_minor": 2
}
