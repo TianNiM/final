{
 "cells": [
  {
   "cell_type": "markdown",
   "metadata": {},
   "source": [
    "## Analyze which of the each weekday posting instagram is most efficient"
   ]
  },
  {
   "cell_type": "code",
   "execution_count": 1,
   "metadata": {
    "collapsed": false
   },
   "outputs": [
    {
     "name": "stdout",
     "output_type": "stream",
     "text": [
      "/Users/yutian/Desktop/final/data/instagram.db\n"
     ]
    }
   ],
   "source": [
    "import os\n",
    "from pathlib import Path\n",
    "from pandas import Series, DataFrame\n",
    "import pandas as pd\n",
    "import matplotlib.pyplot as plt\n",
    "\n",
    "p = Path(os.getcwd())\n",
    "database_path=str(p.parent)+'/data/instagram.db'\n",
    "print(database_path)"
   ]
  },
  {
   "cell_type": "code",
   "execution_count": 2,
   "metadata": {
    "collapsed": false
   },
   "outputs": [
    {
     "data": {
      "text/html": [
       "<div>\n",
       "<table border=\"1\" class=\"dataframe\">\n",
       "  <thead>\n",
       "    <tr style=\"text-align: right;\">\n",
       "      <th></th>\n",
       "      <th>id</th>\n",
       "      <th>account</th>\n",
       "      <th>filter</th>\n",
       "      <th>likes</th>\n",
       "      <th>comments</th>\n",
       "      <th>caption</th>\n",
       "      <th>timestamp</th>\n",
       "    </tr>\n",
       "  </thead>\n",
       "  <tbody>\n",
       "    <tr>\n",
       "      <th>0</th>\n",
       "      <td>31044</td>\n",
       "      <td>murphyoilusa</td>\n",
       "      <td>Valencia</td>\n",
       "      <td>7</td>\n",
       "      <td>0</td>\n",
       "      <td>Elvis is in the building at Murphy Express 855...</td>\n",
       "      <td>140109 11:17</td>\n",
       "    </tr>\n",
       "    <tr>\n",
       "      <th>1</th>\n",
       "      <td>32057</td>\n",
       "      <td>murphyoilusa</td>\n",
       "      <td>Normal</td>\n",
       "      <td>5</td>\n",
       "      <td>0</td>\n",
       "      <td>Cool tanker! #murphyusa</td>\n",
       "      <td>140129 11:40</td>\n",
       "    </tr>\n",
       "    <tr>\n",
       "      <th>2</th>\n",
       "      <td>6359</td>\n",
       "      <td>murphyoilusa</td>\n",
       "      <td>Rise</td>\n",
       "      <td>6</td>\n",
       "      <td>0</td>\n",
       "      <td>Looking up! #murphyusa</td>\n",
       "      <td>121205 12:11</td>\n",
       "    </tr>\n",
       "    <tr>\n",
       "      <th>3</th>\n",
       "      <td>6347</td>\n",
       "      <td>murphyoilusa</td>\n",
       "      <td>Hefe</td>\n",
       "      <td>4</td>\n",
       "      <td>0</td>\n",
       "      <td>Quick Strike Energy! #murphyusa</td>\n",
       "      <td>121205 12:23</td>\n",
       "    </tr>\n",
       "    <tr>\n",
       "      <th>4</th>\n",
       "      <td>6351</td>\n",
       "      <td>murphyoilusa</td>\n",
       "      <td>X-Pro II</td>\n",
       "      <td>4</td>\n",
       "      <td>0</td>\n",
       "      <td>Look out, it's Super Murph! #murphyusa</td>\n",
       "      <td>121205 12:16</td>\n",
       "    </tr>\n",
       "  </tbody>\n",
       "</table>\n",
       "</div>"
      ],
      "text/plain": [
       "      id       account    filter  likes  comments  \\\n",
       "0  31044  murphyoilusa  Valencia      7         0   \n",
       "1  32057  murphyoilusa    Normal      5         0   \n",
       "2   6359  murphyoilusa      Rise      6         0   \n",
       "3   6347  murphyoilusa      Hefe      4         0   \n",
       "4   6351  murphyoilusa  X-Pro II      4         0   \n",
       "\n",
       "                                             caption     timestamp  \n",
       "0  Elvis is in the building at Murphy Express 855...  140109 11:17  \n",
       "1                            Cool tanker! #murphyusa  140129 11:40  \n",
       "2                             Looking up! #murphyusa  121205 12:11  \n",
       "3                    Quick Strike Energy! #murphyusa  121205 12:23  \n",
       "4             Look out, it's Super Murph! #murphyusa  121205 12:16  "
      ]
     },
     "execution_count": 2,
     "metadata": {},
     "output_type": "execute_result"
    }
   ],
   "source": [
    "import sqlite3\n",
    "\n",
    "connection = sqlite3.connect(database_path)\n",
    "instagram_data = pd.io.sql.read_sql(\"SELECT * FROM instagram;\", con=connection)\n",
    "instagram_data.head()"
   ]
  },
  {
   "cell_type": "code",
   "execution_count": 3,
   "metadata": {
    "collapsed": false
   },
   "outputs": [
    {
     "data": {
      "text/plain": [
       "215.0"
      ]
     },
     "execution_count": 3,
     "metadata": {},
     "output_type": "execute_result"
    }
   ],
   "source": [
    "instagram_data['focus'] = instagram_data.likes + instagram_data.comments\n",
    "instagram_data['focus'].median()"
   ]
  },
  {
   "cell_type": "code",
   "execution_count": 35,
   "metadata": {
    "collapsed": false
   },
   "outputs": [],
   "source": [
    "# function that convert the timestamp into weekday \n",
    "from datetime import datetime, timedelta\n",
    "def convertDate(s):\n",
    "    date=datetime(year=int(s[0:2]),month=int(s[2:4]),day=int(s[4:6]))\n",
    "    weekday=date.weekday()+1\n",
    "    return weekday"
   ]
  },
  {
   "cell_type": "code",
   "execution_count": 40,
   "metadata": {
    "collapsed": false
   },
   "outputs": [
    {
     "data": {
      "text/html": [
       "<div>\n",
       "<table border=\"1\" class=\"dataframe\">\n",
       "  <thead>\n",
       "    <tr style=\"text-align: right;\">\n",
       "      <th></th>\n",
       "      <th>id</th>\n",
       "      <th>account</th>\n",
       "      <th>filter</th>\n",
       "      <th>likes</th>\n",
       "      <th>comments</th>\n",
       "      <th>caption</th>\n",
       "      <th>timestamp</th>\n",
       "      <th>focus</th>\n",
       "      <th>day</th>\n",
       "    </tr>\n",
       "  </thead>\n",
       "  <tbody>\n",
       "    <tr>\n",
       "      <th>0</th>\n",
       "      <td>31044</td>\n",
       "      <td>murphyoilusa</td>\n",
       "      <td>Valencia</td>\n",
       "      <td>7</td>\n",
       "      <td>0</td>\n",
       "      <td>Elvis is in the building at Murphy Express 855...</td>\n",
       "      <td>140109 11:17</td>\n",
       "      <td>7</td>\n",
       "      <td>4</td>\n",
       "    </tr>\n",
       "    <tr>\n",
       "      <th>1</th>\n",
       "      <td>32057</td>\n",
       "      <td>murphyoilusa</td>\n",
       "      <td>Normal</td>\n",
       "      <td>5</td>\n",
       "      <td>0</td>\n",
       "      <td>Cool tanker! #murphyusa</td>\n",
       "      <td>140129 11:40</td>\n",
       "      <td>5</td>\n",
       "      <td>3</td>\n",
       "    </tr>\n",
       "    <tr>\n",
       "      <th>2</th>\n",
       "      <td>6359</td>\n",
       "      <td>murphyoilusa</td>\n",
       "      <td>Rise</td>\n",
       "      <td>6</td>\n",
       "      <td>0</td>\n",
       "      <td>Looking up! #murphyusa</td>\n",
       "      <td>121205 12:11</td>\n",
       "      <td>6</td>\n",
       "      <td>3</td>\n",
       "    </tr>\n",
       "    <tr>\n",
       "      <th>3</th>\n",
       "      <td>6347</td>\n",
       "      <td>murphyoilusa</td>\n",
       "      <td>Hefe</td>\n",
       "      <td>4</td>\n",
       "      <td>0</td>\n",
       "      <td>Quick Strike Energy! #murphyusa</td>\n",
       "      <td>121205 12:23</td>\n",
       "      <td>4</td>\n",
       "      <td>3</td>\n",
       "    </tr>\n",
       "    <tr>\n",
       "      <th>4</th>\n",
       "      <td>6351</td>\n",
       "      <td>murphyoilusa</td>\n",
       "      <td>X-Pro II</td>\n",
       "      <td>4</td>\n",
       "      <td>0</td>\n",
       "      <td>Look out, it's Super Murph! #murphyusa</td>\n",
       "      <td>121205 12:16</td>\n",
       "      <td>4</td>\n",
       "      <td>3</td>\n",
       "    </tr>\n",
       "  </tbody>\n",
       "</table>\n",
       "</div>"
      ],
      "text/plain": [
       "      id       account    filter  likes  comments  \\\n",
       "0  31044  murphyoilusa  Valencia      7         0   \n",
       "1  32057  murphyoilusa    Normal      5         0   \n",
       "2   6359  murphyoilusa      Rise      6         0   \n",
       "3   6347  murphyoilusa      Hefe      4         0   \n",
       "4   6351  murphyoilusa  X-Pro II      4         0   \n",
       "\n",
       "                                             caption     timestamp  focus  day  \n",
       "0  Elvis is in the building at Murphy Express 855...  140109 11:17      7    4  \n",
       "1                            Cool tanker! #murphyusa  140129 11:40      5    3  \n",
       "2                             Looking up! #murphyusa  121205 12:11      6    3  \n",
       "3                    Quick Strike Energy! #murphyusa  121205 12:23      4    3  \n",
       "4             Look out, it's Super Murph! #murphyusa  121205 12:16      4    3  "
      ]
     },
     "execution_count": 40,
     "metadata": {},
     "output_type": "execute_result"
    }
   ],
   "source": [
    "## add weekday row to instagram dataframe\n",
    "instagram_data['day']=instagram_data.timestamp.apply(lambda x:convertDate(x))\n",
    "instagram_data.head()"
   ]
  },
  {
   "cell_type": "code",
   "execution_count": 43,
   "metadata": {
    "collapsed": false
   },
   "outputs": [
    {
     "data": {
      "image/png": "[encoded data removed]",
      "text/plain": [
       "<matplotlib.figure.Figure at 0x11019d400>"
      ]
     },
     "metadata": {},
     "output_type": "display_data"
    }
   ],
   "source": [
    "# Find the best day of week to post and plot the bar chart\n",
    "dow_effect = instagram_data.groupby('day').focus\n",
    "(dow_effect.sum() / dow_effect.count()).plot(kind='bar');\n",
    "plt.ylabel(\"Avg likes + comments\");\n",
    "plt.xticks(range(7), (\"Mon\", \"Tue\", \"Wed\", \"Thu\", \"Fri\", \"Sat\", \"Sun\"));\n",
    "plt.show()"
   ]
  },
  {
   "cell_type": "code",
   "execution_count": null,
   "metadata": {
    "collapsed": true
   },
   "outputs": [],
   "source": []
  }
 ],
 "metadata": {
  "kernelspec": {
   "display_name": "Python 3",
   "language": "python",
   "name": "python3"
  },
  "language_info": {
   "codemirror_mode": {
    "name": "ipython",
    "version": 3
   },
   "file_extension": ".py",
   "mimetype": "text/x-python",
   "name": "python",
   "nbconvert_exporter": "python",
   "pygments_lexer": "ipython3",
   "version": "3.6.0"
  }
 },
 "nbformat": 4,
 "nbformat_minor": 2
}
