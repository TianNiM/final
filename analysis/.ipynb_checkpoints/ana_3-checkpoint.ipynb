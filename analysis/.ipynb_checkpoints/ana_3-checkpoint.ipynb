{
 "cells": [
  {
   "cell_type": "markdown",
   "metadata": {},
   "source": [
    "## Analyze each posted instagram hashtag"
   ]
  },
  {
   "cell_type": "code",
   "execution_count": 1,
   "metadata": {
    "collapsed": false
   },
   "outputs": [
    {
     "name": "stdout",
     "output_type": "stream",
     "text": [
      "/Users/yutian/Desktop/final/data/instagram.db\n"
     ]
    }
   ],
   "source": [
    "import os\n",
    "from pathlib import Path\n",
    "from pandas import Series, DataFrame\n",
    "import pandas as pd\n",
    "import matplotlib.pyplot as plt\n",
    "\n",
    "p = Path(os.getcwd())\n",
    "database_path=str(p.parent)+'/data/instagram.db'\n",
    "print(database_path)"
   ]
  },
  {
   "cell_type": "code",
   "execution_count": 2,
   "metadata": {
    "collapsed": false
   },
   "outputs": [
    {
     "data": {
      "text/html": [
       "<div>\n",
       "<table border=\"1\" class=\"dataframe\">\n",
       "  <thead>\n",
       "    <tr style=\"text-align: right;\">\n",
       "      <th></th>\n",
       "      <th>id</th>\n",
       "      <th>account</th>\n",
       "      <th>filter</th>\n",
       "      <th>likes</th>\n",
       "      <th>comments</th>\n",
       "      <th>caption</th>\n",
       "      <th>timestamp</th>\n",
       "    </tr>\n",
       "  </thead>\n",
       "  <tbody>\n",
       "    <tr>\n",
       "      <th>0</th>\n",
       "      <td>31044</td>\n",
       "      <td>murphyoilusa</td>\n",
       "      <td>Valencia</td>\n",
       "      <td>7</td>\n",
       "      <td>0</td>\n",
       "      <td>Elvis is in the building at Murphy Express 855...</td>\n",
       "      <td>140109 11:17</td>\n",
       "    </tr>\n",
       "    <tr>\n",
       "      <th>1</th>\n",
       "      <td>32057</td>\n",
       "      <td>murphyoilusa</td>\n",
       "      <td>Normal</td>\n",
       "      <td>5</td>\n",
       "      <td>0</td>\n",
       "      <td>Cool tanker! #murphyusa</td>\n",
       "      <td>140129 11:40</td>\n",
       "    </tr>\n",
       "    <tr>\n",
       "      <th>2</th>\n",
       "      <td>6359</td>\n",
       "      <td>murphyoilusa</td>\n",
       "      <td>Rise</td>\n",
       "      <td>6</td>\n",
       "      <td>0</td>\n",
       "      <td>Looking up! #murphyusa</td>\n",
       "      <td>121205 12:11</td>\n",
       "    </tr>\n",
       "    <tr>\n",
       "      <th>3</th>\n",
       "      <td>6347</td>\n",
       "      <td>murphyoilusa</td>\n",
       "      <td>Hefe</td>\n",
       "      <td>4</td>\n",
       "      <td>0</td>\n",
       "      <td>Quick Strike Energy! #murphyusa</td>\n",
       "      <td>121205 12:23</td>\n",
       "    </tr>\n",
       "    <tr>\n",
       "      <th>4</th>\n",
       "      <td>6351</td>\n",
       "      <td>murphyoilusa</td>\n",
       "      <td>X-Pro II</td>\n",
       "      <td>4</td>\n",
       "      <td>0</td>\n",
       "      <td>Look out, it's Super Murph! #murphyusa</td>\n",
       "      <td>121205 12:16</td>\n",
       "    </tr>\n",
       "  </tbody>\n",
       "</table>\n",
       "</div>"
      ],
      "text/plain": [
       "      id       account    filter  likes  comments  \\\n",
       "0  31044  murphyoilusa  Valencia      7         0   \n",
       "1  32057  murphyoilusa    Normal      5         0   \n",
       "2   6359  murphyoilusa      Rise      6         0   \n",
       "3   6347  murphyoilusa      Hefe      4         0   \n",
       "4   6351  murphyoilusa  X-Pro II      4         0   \n",
       "\n",
       "                                             caption     timestamp  \n",
       "0  Elvis is in the building at Murphy Express 855...  140109 11:17  \n",
       "1                            Cool tanker! #murphyusa  140129 11:40  \n",
       "2                             Looking up! #murphyusa  121205 12:11  \n",
       "3                    Quick Strike Energy! #murphyusa  121205 12:23  \n",
       "4             Look out, it's Super Murph! #murphyusa  121205 12:16  "
      ]
     },
     "execution_count": 2,
     "metadata": {},
     "output_type": "execute_result"
    }
   ],
   "source": [
    "## connect the database\n",
    "import sqlite3\n",
    "\n",
    "connection = sqlite3.connect(database_path)\n",
    "instagram_data = pd.io.sql.read_sql(\"SELECT * FROM instagram;\", con=connection)\n",
    "instagram_data.head()"
   ]
  },
  {
   "cell_type": "code",
   "execution_count": 3,
   "metadata": {
    "collapsed": false
   },
   "outputs": [
    {
     "data": {
      "text/plain": [
       "215.0"
      ]
     },
     "execution_count": 3,
     "metadata": {},
     "output_type": "execute_result"
    }
   ],
   "source": [
    "instagram_data['focus'] = instagram_data.likes + instagram_data.comments\n",
    "instagram_data['focus'].median()"
   ]
  },
  {
   "cell_type": "code",
   "execution_count": 17,
   "metadata": {
    "collapsed": false
   },
   "outputs": [
    {
     "name": "stderr",
     "output_type": "stream",
     "text": [
      "/Users/yutian/anaconda/lib/python3.6/site-packages/ipykernel/__main__.py:3: SettingWithCopyWarning: \n",
      "A value is trying to be set on a copy of a slice from a DataFrame.\n",
      "Try using .loc[row_indexer,col_indexer] = value instead\n",
      "\n",
      "See the caveats in the documentation: http://pandas.pydata.org/pandas-docs/stable/indexing.html#indexing-view-versus-copy\n",
      "  app.launch_new_instance()\n"
     ]
    },
    {
     "data": {
      "text/html": [
       "<div>\n",
       "<table border=\"1\" class=\"dataframe\">\n",
       "  <thead>\n",
       "    <tr style=\"text-align: right;\">\n",
       "      <th></th>\n",
       "      <th>account</th>\n",
       "      <th>caption</th>\n",
       "      <th>number_of_hashtags</th>\n",
       "    </tr>\n",
       "  </thead>\n",
       "  <tbody>\n",
       "    <tr>\n",
       "      <th>0</th>\n",
       "      <td>murphyoilusa</td>\n",
       "      <td>Elvis is in the building at Murphy Express 855...</td>\n",
       "      <td>3</td>\n",
       "    </tr>\n",
       "    <tr>\n",
       "      <th>1</th>\n",
       "      <td>murphyoilusa</td>\n",
       "      <td>Cool tanker! #murphyusa</td>\n",
       "      <td>1</td>\n",
       "    </tr>\n",
       "    <tr>\n",
       "      <th>2</th>\n",
       "      <td>murphyoilusa</td>\n",
       "      <td>Looking up! #murphyusa</td>\n",
       "      <td>1</td>\n",
       "    </tr>\n",
       "    <tr>\n",
       "      <th>3</th>\n",
       "      <td>murphyoilusa</td>\n",
       "      <td>Quick Strike Energy! #murphyusa</td>\n",
       "      <td>1</td>\n",
       "    </tr>\n",
       "    <tr>\n",
       "      <th>4</th>\n",
       "      <td>murphyoilusa</td>\n",
       "      <td>Look out, it's Super Murph! #murphyusa</td>\n",
       "      <td>1</td>\n",
       "    </tr>\n",
       "  </tbody>\n",
       "</table>\n",
       "</div>"
      ],
      "text/plain": [
       "        account                                            caption  \\\n",
       "0  murphyoilusa  Elvis is in the building at Murphy Express 855...   \n",
       "1  murphyoilusa                            Cool tanker! #murphyusa   \n",
       "2  murphyoilusa                             Looking up! #murphyusa   \n",
       "3  murphyoilusa                    Quick Strike Energy! #murphyusa   \n",
       "4  murphyoilusa             Look out, it's Super Murph! #murphyusa   \n",
       "\n",
       "   number_of_hashtags  \n",
       "0                   3  \n",
       "1                   1  \n",
       "2                   1  \n",
       "3                   1  \n",
       "4                   1  "
      ]
     },
     "execution_count": 17,
     "metadata": {},
     "output_type": "execute_result"
    }
   ],
   "source": [
    "# total number of hashtags used by each brand posting instagram\n",
    "post_data=instagram_data[['account','caption']]\n",
    "post_data['number_of_hashtags']=post_data.caption.str.count('#')\n",
    "post_data.head()\n"
   ]
  },
  {
   "cell_type": "code",
   "execution_count": 18,
   "metadata": {
    "collapsed": false
   },
   "outputs": [
    {
     "data": {
      "text/html": [
       "<div>\n",
       "<table border=\"1\" class=\"dataframe\">\n",
       "  <thead>\n",
       "    <tr style=\"text-align: right;\">\n",
       "      <th></th>\n",
       "      <th>number_of_hashtags</th>\n",
       "    </tr>\n",
       "    <tr>\n",
       "      <th>account</th>\n",
       "      <th></th>\n",
       "    </tr>\n",
       "  </thead>\n",
       "  <tbody>\n",
       "    <tr>\n",
       "      <th>loewshotels</th>\n",
       "      <td>8202</td>\n",
       "    </tr>\n",
       "    <tr>\n",
       "      <th>homedepot</th>\n",
       "      <td>3977</td>\n",
       "    </tr>\n",
       "    <tr>\n",
       "      <th>kohls</th>\n",
       "      <td>3381</td>\n",
       "    </tr>\n",
       "    <tr>\n",
       "      <th>footlocker</th>\n",
       "      <td>3197</td>\n",
       "    </tr>\n",
       "    <tr>\n",
       "      <th>nordstrom</th>\n",
       "      <td>2688</td>\n",
       "    </tr>\n",
       "  </tbody>\n",
       "</table>\n",
       "</div>"
      ],
      "text/plain": [
       "             number_of_hashtags\n",
       "account                        \n",
       "loewshotels                8202\n",
       "homedepot                  3977\n",
       "kohls                      3381\n",
       "footlocker                 3197\n",
       "nordstrom                  2688"
      ]
     },
     "execution_count": 18,
     "metadata": {},
     "output_type": "execute_result"
    }
   ],
   "source": [
    "##total hashtags post by each brand\n",
    "post_data1=post_data.groupby(\"account\").sum()\n",
    "post_data1.sort_values(by='number_of_hashtags',ascending=0).head()"
   ]
  },
  {
   "cell_type": "code",
   "execution_count": 21,
   "metadata": {
    "collapsed": false
   },
   "outputs": [
    {
     "name": "stderr",
     "output_type": "stream",
     "text": [
      "/Users/yutian/anaconda/lib/python3.6/site-packages/ipykernel/__main__.py:3: FutureWarning: sort(columns=....) is deprecated, use sort_values(by=.....)\n",
      "  app.launch_new_instance()\n"
     ]
    },
    {
     "data": {
      "text/plain": [
       "starbucks     1.774554\n",
       "nike          1.241525\n",
       "disney        0.620347\n",
       "footlocker    1.899584\n",
       "apple         0.619048\n",
       "Name: number_of_hashtags, dtype: float64"
      ]
     },
     "execution_count": 21,
     "metadata": {},
     "output_type": "execute_result"
    }
   ],
   "source": [
    "# Average number of hashtags used by top brands\n",
    "tag_counts = post_data.groupby('account').number_of_hashtags\n",
    "avg_tags = (tag_counts.sum() / tag_counts.count())\n",
    "pd.concat([top_posters, avg_tags], axis=1).sort('focus', ascending=False).number_of_hashtags[:5]   "
   ]
  },
  {
   "cell_type": "code",
   "execution_count": null,
   "metadata": {
    "collapsed": false
   },
   "outputs": [],
   "source": [
    "\n",
    "\n",
    "\n"
   ]
  },
  {
   "cell_type": "code",
   "execution_count": null,
   "metadata": {
    "collapsed": true
   },
   "outputs": [],
   "source": []
  }
 ],
 "metadata": {
  "kernelspec": {
   "display_name": "Python 3",
   "language": "python",
   "name": "python3"
  },
  "language_info": {
   "codemirror_mode": {
    "name": "ipython",
    "version": 3
   },
   "file_extension": ".py",
   "mimetype": "text/x-python",
   "name": "python",
   "nbconvert_exporter": "python",
   "pygments_lexer": "ipython3",
   "version": "3.6.0"
  }
 },
 "nbformat": 4,
 "nbformat_minor": 2
}
