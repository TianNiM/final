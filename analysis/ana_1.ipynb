{
 "cells": [
  {
   "cell_type": "markdown",
   "metadata": {},
   "source": [
    "## Analyze 1: companies that post instagram gain total focus"
   ]
  },
  {
   "cell_type": "code",
   "execution_count": 141,
   "metadata": {
    "collapsed": false
   },
   "outputs": [
    {
     "name": "stdout",
     "output_type": "stream",
     "text": [
      "/Users/yutian/Desktop/final/data/instagram.db\n"
     ]
    }
   ],
   "source": [
    "import os\n",
    "from pathlib import Path\n",
    "from pandas import Series, DataFrame\n",
    "import pandas as pd\n",
    "import matplotlib.pyplot as plt\n",
    "\n",
    "p = Path(os.getcwd())\n",
    "database_path=str(p.parent)+'/data/instagram.db'\n",
    "print(database_path)"
   ]
  },
  {
   "cell_type": "code",
   "execution_count": 142,
   "metadata": {
    "collapsed": false
   },
   "outputs": [],
   "source": [
    "## connect the database\n",
    "import sqlite3\n",
    "\n",
    "connection = sqlite3.connect(database_path)\n",
    "instagram_data = pd.io.sql.read_sql(\"SELECT * FROM instagram;\", con=connection)"
   ]
  },
  {
   "cell_type": "code",
   "execution_count": 143,
   "metadata": {
    "collapsed": false
   },
   "outputs": [
    {
     "data": {
      "text/html": [
       "<div>\n",
       "<table border=\"1\" class=\"dataframe\">\n",
       "  <thead>\n",
       "    <tr style=\"text-align: right;\">\n",
       "      <th></th>\n",
       "      <th>id</th>\n",
       "      <th>account</th>\n",
       "      <th>filter</th>\n",
       "      <th>likes</th>\n",
       "      <th>comments</th>\n",
       "      <th>caption</th>\n",
       "      <th>timestamp</th>\n",
       "    </tr>\n",
       "  </thead>\n",
       "  <tbody>\n",
       "    <tr>\n",
       "      <th>0</th>\n",
       "      <td>31044</td>\n",
       "      <td>murphyoilusa</td>\n",
       "      <td>Valencia</td>\n",
       "      <td>7</td>\n",
       "      <td>0</td>\n",
       "      <td>Elvis is in the building at Murphy Express 855...</td>\n",
       "      <td>140109 11:17</td>\n",
       "    </tr>\n",
       "    <tr>\n",
       "      <th>1</th>\n",
       "      <td>32057</td>\n",
       "      <td>murphyoilusa</td>\n",
       "      <td>Normal</td>\n",
       "      <td>5</td>\n",
       "      <td>0</td>\n",
       "      <td>Cool tanker! #murphyusa</td>\n",
       "      <td>140129 11:40</td>\n",
       "    </tr>\n",
       "    <tr>\n",
       "      <th>2</th>\n",
       "      <td>6359</td>\n",
       "      <td>murphyoilusa</td>\n",
       "      <td>Rise</td>\n",
       "      <td>6</td>\n",
       "      <td>0</td>\n",
       "      <td>Looking up! #murphyusa</td>\n",
       "      <td>121205 12:11</td>\n",
       "    </tr>\n",
       "    <tr>\n",
       "      <th>3</th>\n",
       "      <td>6347</td>\n",
       "      <td>murphyoilusa</td>\n",
       "      <td>Hefe</td>\n",
       "      <td>4</td>\n",
       "      <td>0</td>\n",
       "      <td>Quick Strike Energy! #murphyusa</td>\n",
       "      <td>121205 12:23</td>\n",
       "    </tr>\n",
       "    <tr>\n",
       "      <th>4</th>\n",
       "      <td>6351</td>\n",
       "      <td>murphyoilusa</td>\n",
       "      <td>X-Pro II</td>\n",
       "      <td>4</td>\n",
       "      <td>0</td>\n",
       "      <td>Look out, it's Super Murph! #murphyusa</td>\n",
       "      <td>121205 12:16</td>\n",
       "    </tr>\n",
       "  </tbody>\n",
       "</table>\n",
       "</div>"
      ],
      "text/plain": [
       "      id       account    filter  likes  comments  \\\n",
       "0  31044  murphyoilusa  Valencia      7         0   \n",
       "1  32057  murphyoilusa    Normal      5         0   \n",
       "2   6359  murphyoilusa      Rise      6         0   \n",
       "3   6347  murphyoilusa      Hefe      4         0   \n",
       "4   6351  murphyoilusa  X-Pro II      4         0   \n",
       "\n",
       "                                             caption     timestamp  \n",
       "0  Elvis is in the building at Murphy Express 855...  140109 11:17  \n",
       "1                            Cool tanker! #murphyusa  140129 11:40  \n",
       "2                             Looking up! #murphyusa  121205 12:11  \n",
       "3                    Quick Strike Energy! #murphyusa  121205 12:23  \n",
       "4             Look out, it's Super Murph! #murphyusa  121205 12:16  "
      ]
     },
     "execution_count": 143,
     "metadata": {},
     "output_type": "execute_result"
    }
   ],
   "source": [
    "instagram_data.head()"
   ]
  },
  {
   "cell_type": "code",
   "execution_count": 144,
   "metadata": {
    "collapsed": false
   },
   "outputs": [
    {
     "data": {
      "text/html": [
       "<div>\n",
       "<table border=\"1\" class=\"dataframe\">\n",
       "  <thead>\n",
       "    <tr style=\"text-align: right;\">\n",
       "      <th></th>\n",
       "      <th>id</th>\n",
       "      <th>account</th>\n",
       "      <th>filter</th>\n",
       "      <th>likes</th>\n",
       "      <th>comments</th>\n",
       "      <th>caption</th>\n",
       "      <th>timestamp</th>\n",
       "    </tr>\n",
       "  </thead>\n",
       "  <tbody>\n",
       "    <tr>\n",
       "      <th>11330</th>\n",
       "      <td>38178</td>\n",
       "      <td>nike</td>\n",
       "      <td>Normal</td>\n",
       "      <td>260107</td>\n",
       "      <td>2919</td>\n",
       "      <td>One giant step for man. #justdoit@nicolasmuell...</td>\n",
       "      <td>140514 13:39</td>\n",
       "    </tr>\n",
       "    <tr>\n",
       "      <th>11349</th>\n",
       "      <td>39870</td>\n",
       "      <td>nike</td>\n",
       "      <td>Normal</td>\n",
       "      <td>250906</td>\n",
       "      <td>1434</td>\n",
       "      <td>Teach the world what your country taught you. ...</td>\n",
       "      <td>140612 15:31</td>\n",
       "    </tr>\n",
       "    <tr>\n",
       "      <th>11353</th>\n",
       "      <td>40016</td>\n",
       "      <td>nike</td>\n",
       "      <td>Normal</td>\n",
       "      <td>237154</td>\n",
       "      <td>1823</td>\n",
       "      <td>When your country rises, raise the volume. #ju...</td>\n",
       "      <td>140614 09:00</td>\n",
       "    </tr>\n",
       "    <tr>\n",
       "      <th>11344</th>\n",
       "      <td>39451</td>\n",
       "      <td>nike</td>\n",
       "      <td>Normal</td>\n",
       "      <td>230796</td>\n",
       "      <td>1454</td>\n",
       "      <td>Don�t let anything come between where you are ...</td>\n",
       "      <td>140605 17:30</td>\n",
       "    </tr>\n",
       "    <tr>\n",
       "      <th>11196</th>\n",
       "      <td>35366</td>\n",
       "      <td>nike</td>\n",
       "      <td>Normal</td>\n",
       "      <td>216074</td>\n",
       "      <td>1428</td>\n",
       "      <td>We can't live without Air.It's been 27 years s...</td>\n",
       "      <td>140325 21:00</td>\n",
       "    </tr>\n",
       "  </tbody>\n",
       "</table>\n",
       "</div>"
      ],
      "text/plain": [
       "          id account  filter   likes  comments  \\\n",
       "11330  38178    nike  Normal  260107      2919   \n",
       "11349  39870    nike  Normal  250906      1434   \n",
       "11353  40016    nike  Normal  237154      1823   \n",
       "11344  39451    nike  Normal  230796      1454   \n",
       "11196  35366    nike  Normal  216074      1428   \n",
       "\n",
       "                                                 caption     timestamp  \n",
       "11330  One giant step for man. #justdoit@nicolasmuell...  140514 13:39  \n",
       "11349  Teach the world what your country taught you. ...  140612 15:31  \n",
       "11353  When your country rises, raise the volume. #ju...  140614 09:00  \n",
       "11344  Don�t let anything come between where you are ...  140605 17:30  \n",
       "11196  We can't live without Air.It's been 27 years s...  140325 21:00  "
      ]
     },
     "execution_count": 144,
     "metadata": {},
     "output_type": "execute_result"
    }
   ],
   "source": [
    "instagram_data.sort_values(by='likes', ascending=0).head(5)"
   ]
  },
  {
   "cell_type": "code",
   "execution_count": 145,
   "metadata": {
    "collapsed": false
   },
   "outputs": [
    {
     "data": {
      "text/html": [
       "<div>\n",
       "<table border=\"1\" class=\"dataframe\">\n",
       "  <thead>\n",
       "    <tr style=\"text-align: right;\">\n",
       "      <th></th>\n",
       "      <th>id</th>\n",
       "      <th>likes</th>\n",
       "      <th>comments</th>\n",
       "    </tr>\n",
       "  </thead>\n",
       "  <tbody>\n",
       "    <tr>\n",
       "      <th>count</th>\n",
       "      <td>34575.000000</td>\n",
       "      <td>34575.000000</td>\n",
       "      <td>34575.000000</td>\n",
       "    </tr>\n",
       "    <tr>\n",
       "      <th>mean</th>\n",
       "      <td>21677.659205</td>\n",
       "      <td>3690.893304</td>\n",
       "      <td>50.993955</td>\n",
       "    </tr>\n",
       "    <tr>\n",
       "      <th>std</th>\n",
       "      <td>10841.855251</td>\n",
       "      <td>13330.935345</td>\n",
       "      <td>218.687328</td>\n",
       "    </tr>\n",
       "    <tr>\n",
       "      <th>min</th>\n",
       "      <td>3451.000000</td>\n",
       "      <td>0.000000</td>\n",
       "      <td>0.000000</td>\n",
       "    </tr>\n",
       "    <tr>\n",
       "      <th>25%</th>\n",
       "      <td>12272.500000</td>\n",
       "      <td>31.000000</td>\n",
       "      <td>0.000000</td>\n",
       "    </tr>\n",
       "    <tr>\n",
       "      <th>50%</th>\n",
       "      <td>20929.000000</td>\n",
       "      <td>208.000000</td>\n",
       "      <td>4.000000</td>\n",
       "    </tr>\n",
       "    <tr>\n",
       "      <th>75%</th>\n",
       "      <td>31439.500000</td>\n",
       "      <td>1297.000000</td>\n",
       "      <td>21.000000</td>\n",
       "    </tr>\n",
       "    <tr>\n",
       "      <th>max</th>\n",
       "      <td>40191.000000</td>\n",
       "      <td>260107.000000</td>\n",
       "      <td>12567.000000</td>\n",
       "    </tr>\n",
       "  </tbody>\n",
       "</table>\n",
       "</div>"
      ],
      "text/plain": [
       "                 id          likes      comments\n",
       "count  34575.000000   34575.000000  34575.000000\n",
       "mean   21677.659205    3690.893304     50.993955\n",
       "std    10841.855251   13330.935345    218.687328\n",
       "min     3451.000000       0.000000      0.000000\n",
       "25%    12272.500000      31.000000      0.000000\n",
       "50%    20929.000000     208.000000      4.000000\n",
       "75%    31439.500000    1297.000000     21.000000\n",
       "max    40191.000000  260107.000000  12567.000000"
      ]
     },
     "execution_count": 145,
     "metadata": {},
     "output_type": "execute_result"
    }
   ],
   "source": [
    "instagram_data.describe()"
   ]
  },
  {
   "cell_type": "code",
   "execution_count": 146,
   "metadata": {
    "collapsed": false
   },
   "outputs": [
    {
     "data": {
      "text/html": [
       "<div>\n",
       "<table border=\"1\" class=\"dataframe\">\n",
       "  <thead>\n",
       "    <tr style=\"text-align: right;\">\n",
       "      <th></th>\n",
       "      <th>account</th>\n",
       "      <th>count</th>\n",
       "    </tr>\n",
       "  </thead>\n",
       "  <tbody>\n",
       "    <tr>\n",
       "      <th>60</th>\n",
       "      <td>loewshotels</td>\n",
       "      <td>1779</td>\n",
       "    </tr>\n",
       "    <tr>\n",
       "      <th>40</th>\n",
       "      <td>footlocker</td>\n",
       "      <td>1683</td>\n",
       "    </tr>\n",
       "    <tr>\n",
       "      <th>85</th>\n",
       "      <td>ralphlauren</td>\n",
       "      <td>1514</td>\n",
       "    </tr>\n",
       "    <tr>\n",
       "      <th>74</th>\n",
       "      <td>nordstrom</td>\n",
       "      <td>1458</td>\n",
       "    </tr>\n",
       "    <tr>\n",
       "      <th>62</th>\n",
       "      <td>macys</td>\n",
       "      <td>1250</td>\n",
       "    </tr>\n",
       "  </tbody>\n",
       "</table>\n",
       "</div>"
      ],
      "text/plain": [
       "        account  count\n",
       "60  loewshotels   1779\n",
       "40   footlocker   1683\n",
       "85  ralphlauren   1514\n",
       "74    nordstrom   1458\n",
       "62        macys   1250"
      ]
     },
     "execution_count": 146,
     "metadata": {},
     "output_type": "execute_result"
    }
   ],
   "source": [
    "## total instagram photoes that companies have post\n",
    "account_data=instagram_data.groupby(['account']).size().reset_index().rename(columns={0:'count'})\n",
    "account_data.sort_values(by='count',ascending=0).head()"
   ]
  },
  {
   "cell_type": "code",
   "execution_count": 147,
   "metadata": {
    "collapsed": false
   },
   "outputs": [
    {
     "data": {
      "text/html": [
       "<div>\n",
       "<table border=\"1\" class=\"dataframe\">\n",
       "  <thead>\n",
       "    <tr style=\"text-align: right;\">\n",
       "      <th></th>\n",
       "      <th>account</th>\n",
       "      <th>filter</th>\n",
       "      <th>likes</th>\n",
       "      <th>comments</th>\n",
       "    </tr>\n",
       "  </thead>\n",
       "  <tbody>\n",
       "    <tr>\n",
       "      <th>0</th>\n",
       "      <td>murphyoilusa</td>\n",
       "      <td>Valencia</td>\n",
       "      <td>7</td>\n",
       "      <td>0</td>\n",
       "    </tr>\n",
       "    <tr>\n",
       "      <th>1</th>\n",
       "      <td>murphyoilusa</td>\n",
       "      <td>Normal</td>\n",
       "      <td>5</td>\n",
       "      <td>0</td>\n",
       "    </tr>\n",
       "    <tr>\n",
       "      <th>2</th>\n",
       "      <td>murphyoilusa</td>\n",
       "      <td>Rise</td>\n",
       "      <td>6</td>\n",
       "      <td>0</td>\n",
       "    </tr>\n",
       "    <tr>\n",
       "      <th>3</th>\n",
       "      <td>murphyoilusa</td>\n",
       "      <td>Hefe</td>\n",
       "      <td>4</td>\n",
       "      <td>0</td>\n",
       "    </tr>\n",
       "    <tr>\n",
       "      <th>4</th>\n",
       "      <td>murphyoilusa</td>\n",
       "      <td>X-Pro II</td>\n",
       "      <td>4</td>\n",
       "      <td>0</td>\n",
       "    </tr>\n",
       "  </tbody>\n",
       "</table>\n",
       "</div>"
      ],
      "text/plain": [
       "        account    filter  likes  comments\n",
       "0  murphyoilusa  Valencia      7         0\n",
       "1  murphyoilusa    Normal      5         0\n",
       "2  murphyoilusa      Rise      6         0\n",
       "3  murphyoilusa      Hefe      4         0\n",
       "4  murphyoilusa  X-Pro II      4         0"
      ]
     },
     "execution_count": 147,
     "metadata": {},
     "output_type": "execute_result"
    }
   ],
   "source": [
    "## get columns contain \"account\",\"filter\",\"likes\",\"comments\"\n",
    "social_data=instagram_data[['account','filter','likes','comments']]\n",
    "social_data.head(5)"
   ]
  },
  {
   "cell_type": "code",
   "execution_count": 148,
   "metadata": {
    "collapsed": false
   },
   "outputs": [
    {
     "data": {
      "text/html": [
       "<div>\n",
       "<table border=\"1\" class=\"dataframe\">\n",
       "  <thead>\n",
       "    <tr style=\"text-align: right;\">\n",
       "      <th></th>\n",
       "      <th>likes</th>\n",
       "      <th>comments</th>\n",
       "      <th>focus</th>\n",
       "    </tr>\n",
       "    <tr>\n",
       "      <th>account</th>\n",
       "      <th></th>\n",
       "      <th></th>\n",
       "      <th></th>\n",
       "    </tr>\n",
       "  </thead>\n",
       "  <tbody>\n",
       "    <tr>\n",
       "      <th>footlocker</th>\n",
       "      <td>33580410</td>\n",
       "      <td>667097</td>\n",
       "      <td>34247507</td>\n",
       "    </tr>\n",
       "    <tr>\n",
       "      <th>nike</th>\n",
       "      <td>28789892</td>\n",
       "      <td>247186</td>\n",
       "      <td>29037078</td>\n",
       "    </tr>\n",
       "    <tr>\n",
       "      <th>starbucks</th>\n",
       "      <td>20976750</td>\n",
       "      <td>159106</td>\n",
       "      <td>21135856</td>\n",
       "    </tr>\n",
       "    <tr>\n",
       "      <th>ralphlauren</th>\n",
       "      <td>13152054</td>\n",
       "      <td>137324</td>\n",
       "      <td>13289378</td>\n",
       "    </tr>\n",
       "    <tr>\n",
       "      <th>disney</th>\n",
       "      <td>8251122</td>\n",
       "      <td>96008</td>\n",
       "      <td>8347130</td>\n",
       "    </tr>\n",
       "  </tbody>\n",
       "</table>\n",
       "</div>"
      ],
      "text/plain": [
       "                likes  comments     focus\n",
       "account                                  \n",
       "footlocker   33580410    667097  34247507\n",
       "nike         28789892    247186  29037078\n",
       "starbucks    20976750    159106  21135856\n",
       "ralphlauren  13152054    137324  13289378\n",
       "disney        8251122     96008   8347130"
      ]
     },
     "execution_count": 148,
     "metadata": {},
     "output_type": "execute_result"
    }
   ],
   "source": [
    "## combine all instagram photoes that companies posted and calculate focus=likes+comments \n",
    "social_data=social_data.groupby(\"account\").sum()\n",
    "social_data['focus']=social_data['likes']+social_data['comments']\n",
    "social_data.sort_values(by='focus',ascending=0).head()"
   ]
  },
  {
   "cell_type": "code",
   "execution_count": 149,
   "metadata": {
    "collapsed": false
   },
   "outputs": [],
   "source": [
    "## filter companies that gain focus greater than 500000\n",
    "mask=(social_data['focus']>=500000)\n",
    "plot_data=social_data.loc[mask]\n",
    "\n"
   ]
  },
  {
   "cell_type": "code",
   "execution_count": 155,
   "metadata": {
    "collapsed": false
   },
   "outputs": [
    {
     "name": "stderr",
     "output_type": "stream",
     "text": [
      "/Users/yutian/anaconda/lib/python3.6/site-packages/ipykernel/__main__.py:4: FutureWarning: sort(columns=....) is deprecated, use sort_values(by=.....)\n"
     ]
    },
    {
     "data": {
      "text/plain": [
       "<matplotlib.figure.Figure at 0x123a79128>"
      ]
     },
     "metadata": {},
     "output_type": "display_data"
    },
    {
     "data": {
      "image/png": "[encoded data removed]",
      "text/plain": [
       "<matplotlib.figure.Figure at 0x121fb5710>"
      ]
     },
     "metadata": {},
     "output_type": "display_data"
    }
   ],
   "source": [
    "## draw the bar chart plot \n",
    "##ax = plot_data[['focus']].sort(ascending=0).plot(kind='bar', title =\"focus bar chart\", figsize=(15, 10), legend=True, fontsize=12)\n",
    "\n",
    "ax = plot_data.sort(columns='focus',ascending=0).plot(kind='bar', title =\"focus bar chart\", figsize=(15, 10), legend=True, fontsize=12)\n",
    "ax.set_xlabel(\"account\", fontsize=12)\n",
    "ax.set_ylabel(\"focus (10^7)\", fontsize=12)\n",
    "plt.savefig('ana1.png')\n",
    "plt.show()\n",
    "##plt.savefig('ana1.png')"
   ]
  },
  {
   "cell_type": "code",
   "execution_count": 156,
   "metadata": {
    "collapsed": false
   },
   "outputs": [],
   "source": [
    "## filter number of instagram companies posted\n",
    "mask=(account_data['count']>=800)\n",
    "account_data=account_data.loc[mask]\n",
    "\n"
   ]
  },
  {
   "cell_type": "code",
   "execution_count": 157,
   "metadata": {
    "collapsed": false
   },
   "outputs": [
    {
     "name": "stderr",
     "output_type": "stream",
     "text": [
      "/Users/yutian/anaconda/lib/python3.6/site-packages/ipykernel/__main__.py:2: FutureWarning: sort(columns=....) is deprecated, use sort_values(by=.....)\n",
      "  from ipykernel import kernelapp as app\n"
     ]
    },
    {
     "data": {
      "image/png": "[encoded data removed]",
      "text/plain": [
       "<matplotlib.figure.Figure at 0x1221696d8>"
      ]
     },
     "metadata": {},
     "output_type": "display_data"
    }
   ],
   "source": [
    "## draw bar chart companies posted on instagram\n",
    "my_plot1 = account_data.sort(columns='count',ascending=False).plot(x='account',y='count',kind='bar',legend=None,title=\"Total post instagram\")\n",
    "my_plot1.set_xlabel(\"account\")\n",
    "my_plot1.set_ylabel(\"count\")\n",
    "plt.savefig('ana2.png')\n",
    "plt.show()"
   ]
  },
  {
   "cell_type": "code",
   "execution_count": null,
   "metadata": {
    "collapsed": true
   },
   "outputs": [],
   "source": []
  }
 ],
 "metadata": {
  "kernelspec": {
   "display_name": "Python 3",
   "language": "python",
   "name": "python3"
  },
  "language_info": {
   "codemirror_mode": {
    "name": "ipython",
    "version": 3
   },
   "file_extension": ".py",
   "mimetype": "text/x-python",
   "name": "python",
   "nbconvert_exporter": "python",
   "pygments_lexer": "ipython3",
   "version": "3.6.0"
  }
 },
 "nbformat": 4,
 "nbformat_minor": 2
}
