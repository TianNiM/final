{
 "cells": [
  {
   "cell_type": "markdown",
   "metadata": {},
   "source": [
    "## Analyze photoes companies posted filter and which kinds of filter viewers enjoy\n"
   ]
  },
  {
   "cell_type": "code",
   "execution_count": 1,
   "metadata": {
    "collapsed": false
   },
   "outputs": [
    {
     "name": "stdout",
     "output_type": "stream",
     "text": [
      "/Users/yutian/Desktop/final/data/instagram.db\n"
     ]
    }
   ],
   "source": [
    "import os\n",
    "from pathlib import Path\n",
    "from pandas import Series, DataFrame\n",
    "import pandas as pd\n",
    "import matplotlib.pyplot as plt\n",
    "\n",
    "p = Path(os.getcwd())\n",
    "database_path=str(p.parent)+'/data/instagram.db'\n",
    "print(database_path)"
   ]
  },
  {
   "cell_type": "code",
   "execution_count": 49,
   "metadata": {
    "collapsed": false
   },
   "outputs": [
    {
     "data": {
      "text/html": [
       "<div>\n",
       "<table border=\"1\" class=\"dataframe\">\n",
       "  <thead>\n",
       "    <tr style=\"text-align: right;\">\n",
       "      <th></th>\n",
       "      <th>id</th>\n",
       "      <th>account</th>\n",
       "      <th>filter</th>\n",
       "      <th>likes</th>\n",
       "      <th>comments</th>\n",
       "      <th>caption</th>\n",
       "      <th>timestamp</th>\n",
       "    </tr>\n",
       "  </thead>\n",
       "  <tbody>\n",
       "    <tr>\n",
       "      <th>0</th>\n",
       "      <td>31044</td>\n",
       "      <td>murphyoilusa</td>\n",
       "      <td>Valencia</td>\n",
       "      <td>7</td>\n",
       "      <td>0</td>\n",
       "      <td>Elvis is in the building at Murphy Express 855...</td>\n",
       "      <td>140109 11:17</td>\n",
       "    </tr>\n",
       "    <tr>\n",
       "      <th>1</th>\n",
       "      <td>32057</td>\n",
       "      <td>murphyoilusa</td>\n",
       "      <td>Normal</td>\n",
       "      <td>5</td>\n",
       "      <td>0</td>\n",
       "      <td>Cool tanker! #murphyusa</td>\n",
       "      <td>140129 11:40</td>\n",
       "    </tr>\n",
       "    <tr>\n",
       "      <th>2</th>\n",
       "      <td>6359</td>\n",
       "      <td>murphyoilusa</td>\n",
       "      <td>Rise</td>\n",
       "      <td>6</td>\n",
       "      <td>0</td>\n",
       "      <td>Looking up! #murphyusa</td>\n",
       "      <td>121205 12:11</td>\n",
       "    </tr>\n",
       "    <tr>\n",
       "      <th>3</th>\n",
       "      <td>6347</td>\n",
       "      <td>murphyoilusa</td>\n",
       "      <td>Hefe</td>\n",
       "      <td>4</td>\n",
       "      <td>0</td>\n",
       "      <td>Quick Strike Energy! #murphyusa</td>\n",
       "      <td>121205 12:23</td>\n",
       "    </tr>\n",
       "    <tr>\n",
       "      <th>4</th>\n",
       "      <td>6351</td>\n",
       "      <td>murphyoilusa</td>\n",
       "      <td>X-Pro II</td>\n",
       "      <td>4</td>\n",
       "      <td>0</td>\n",
       "      <td>Look out, it's Super Murph! #murphyusa</td>\n",
       "      <td>121205 12:16</td>\n",
       "    </tr>\n",
       "  </tbody>\n",
       "</table>\n",
       "</div>"
      ],
      "text/plain": [
       "      id       account    filter  likes  comments  \\\n",
       "0  31044  murphyoilusa  Valencia      7         0   \n",
       "1  32057  murphyoilusa    Normal      5         0   \n",
       "2   6359  murphyoilusa      Rise      6         0   \n",
       "3   6347  murphyoilusa      Hefe      4         0   \n",
       "4   6351  murphyoilusa  X-Pro II      4         0   \n",
       "\n",
       "                                             caption     timestamp  \n",
       "0  Elvis is in the building at Murphy Express 855...  140109 11:17  \n",
       "1                            Cool tanker! #murphyusa  140129 11:40  \n",
       "2                             Looking up! #murphyusa  121205 12:11  \n",
       "3                    Quick Strike Energy! #murphyusa  121205 12:23  \n",
       "4             Look out, it's Super Murph! #murphyusa  121205 12:16  "
      ]
     },
     "execution_count": 49,
     "metadata": {},
     "output_type": "execute_result"
    }
   ],
   "source": [
    "## connect the database\n",
    "import sqlite3\n",
    "\n",
    "connection = sqlite3.connect(database_path)\n",
    "instagram_data = pd.io.sql.read_sql(\"SELECT * FROM instagram;\", con=connection)\n",
    "instagram_data.head()\n"
   ]
  },
  {
   "cell_type": "code",
   "execution_count": 61,
   "metadata": {
    "collapsed": false
   },
   "outputs": [
    {
     "data": {
      "text/plain": [
       "215.0"
      ]
     },
     "execution_count": 61,
     "metadata": {},
     "output_type": "execute_result"
    }
   ],
   "source": [
    "instagram_data['social_actions'] = instagram_data.likes + instagram_data.comments\n",
    "instagram_data['social_actions'].median()"
   ]
  },
  {
   "cell_type": "code",
   "execution_count": 62,
   "metadata": {
    "collapsed": false
   },
   "outputs": [
    {
     "data": {
      "text/html": [
       "<div>\n",
       "<table border=\"1\" class=\"dataframe\">\n",
       "  <thead>\n",
       "    <tr style=\"text-align: right;\">\n",
       "      <th></th>\n",
       "      <th>account</th>\n",
       "      <th>filter</th>\n",
       "    </tr>\n",
       "  </thead>\n",
       "  <tbody>\n",
       "    <tr>\n",
       "      <th>0</th>\n",
       "      <td>murphyoilusa</td>\n",
       "      <td>Valencia</td>\n",
       "    </tr>\n",
       "    <tr>\n",
       "      <th>1</th>\n",
       "      <td>murphyoilusa</td>\n",
       "      <td>Normal</td>\n",
       "    </tr>\n",
       "    <tr>\n",
       "      <th>2</th>\n",
       "      <td>murphyoilusa</td>\n",
       "      <td>Rise</td>\n",
       "    </tr>\n",
       "    <tr>\n",
       "      <th>3</th>\n",
       "      <td>murphyoilusa</td>\n",
       "      <td>Hefe</td>\n",
       "    </tr>\n",
       "    <tr>\n",
       "      <th>4</th>\n",
       "      <td>murphyoilusa</td>\n",
       "      <td>X-Pro II</td>\n",
       "    </tr>\n",
       "  </tbody>\n",
       "</table>\n",
       "</div>"
      ],
      "text/plain": [
       "        account    filter\n",
       "0  murphyoilusa  Valencia\n",
       "1  murphyoilusa    Normal\n",
       "2  murphyoilusa      Rise\n",
       "3  murphyoilusa      Hefe\n",
       "4  murphyoilusa  X-Pro II"
      ]
     },
     "execution_count": 62,
     "metadata": {},
     "output_type": "execute_result"
    }
   ],
   "source": [
    "filter_data=instagram_data[['account','filter']]\n",
    "filter_data.head()"
   ]
  },
  {
   "cell_type": "code",
   "execution_count": 63,
   "metadata": {
    "collapsed": false
   },
   "outputs": [
    {
     "data": {
      "text/html": [
       "<div>\n",
       "<table border=\"1\" class=\"dataframe\">\n",
       "  <thead>\n",
       "    <tr style=\"text-align: right;\">\n",
       "      <th></th>\n",
       "      <th>filter</th>\n",
       "      <th>count</th>\n",
       "    </tr>\n",
       "  </thead>\n",
       "  <tbody>\n",
       "    <tr>\n",
       "      <th>14</th>\n",
       "      <td>Normal</td>\n",
       "      <td>20234</td>\n",
       "    </tr>\n",
       "    <tr>\n",
       "      <th>10</th>\n",
       "      <td>Lo-fi</td>\n",
       "      <td>1906</td>\n",
       "    </tr>\n",
       "    <tr>\n",
       "      <th>1</th>\n",
       "      <td>Amaro</td>\n",
       "      <td>1748</td>\n",
       "    </tr>\n",
       "    <tr>\n",
       "      <th>12</th>\n",
       "      <td>Mayfair</td>\n",
       "      <td>1707</td>\n",
       "    </tr>\n",
       "    <tr>\n",
       "      <th>21</th>\n",
       "      <td>Valencia</td>\n",
       "      <td>1669</td>\n",
       "    </tr>\n",
       "  </tbody>\n",
       "</table>\n",
       "</div>"
      ],
      "text/plain": [
       "      filter  count\n",
       "14    Normal  20234\n",
       "10     Lo-fi   1906\n",
       "1      Amaro   1748\n",
       "12   Mayfair   1707\n",
       "21  Valencia   1669"
      ]
     },
     "execution_count": 63,
     "metadata": {},
     "output_type": "execute_result"
    }
   ],
   "source": [
    "#all filter and their using frequency\n",
    "filter_data1=filter_data.groupby(['filter']).size().reset_index().rename(columns={0:'count'})\n",
    "filter_data1.sort_values(by='count',ascending=0).head()"
   ]
  },
  {
   "cell_type": "code",
   "execution_count": 64,
   "metadata": {
    "collapsed": false
   },
   "outputs": [
    {
     "name": "stderr",
     "output_type": "stream",
     "text": [
      "/Users/yutian/anaconda/lib/python3.6/site-packages/ipykernel/__main__.py:2: FutureWarning: order is deprecated, use sort_values(...)\n",
      "  from ipykernel import kernelapp as app\n"
     ]
    },
    {
     "data": {
      "text/plain": [
       "filter\n",
       "Normal      58.522054\n",
       "Lo-fi        5.512654\n",
       "Amaro        5.055676\n",
       "Mayfair      4.937093\n",
       "Valencia     4.827187\n",
       "X-Pro II     4.043384\n",
       "Rise         3.704989\n",
       "Hudson       3.271150\n",
       "Hefe         2.111352\n",
       "Sierra       1.512654\n",
       "dtype: float64"
      ]
     },
     "execution_count": 64,
     "metadata": {},
     "output_type": "execute_result"
    }
   ],
   "source": [
    "# Top 10 filters by usage\n",
    "top_filters = instagram_data.groupby('filter').size().order(ascending=False)\n",
    "(100 * top_filters / float(sum(top_filters)))[:10]"
   ]
  },
  {
   "cell_type": "code",
   "execution_count": 65,
   "metadata": {
    "collapsed": false
   },
   "outputs": [
    {
     "name": "stderr",
     "output_type": "stream",
     "text": [
      "/Users/yutian/anaconda/lib/python3.6/site-packages/ipykernel/__main__.py:3: FutureWarning: order is deprecated, use sort_values(...)\n",
      "  app.launch_new_instance()\n"
     ]
    },
    {
     "data": {
      "text/plain": [
       "filter\n",
       "Normal      5285.500198\n",
       "Willow      3827.500000\n",
       "Sierra      2721.579350\n",
       "Valencia    2259.502097\n",
       "Amaro       2176.354119\n",
       "Hudson      1932.223696\n",
       "Mayfair     1900.403632\n",
       "1977        1476.029851\n",
       "Rise        1305.064793\n",
       "Lo-fi       1174.589192\n",
       "Name: focus, dtype: float64"
      ]
     },
     "execution_count": 65,
     "metadata": {},
     "output_type": "execute_result"
    }
   ],
   "source": [
    "# Top 10 filters by social engagement\n",
    "social_actions = instagram_data.groupby('filter').focus\n",
    "(social_actions.sum() / social_actions.count()).order(ascending=False)[:10]"
   ]
  },
  {
   "cell_type": "code",
   "execution_count": 66,
   "metadata": {
    "collapsed": false
   },
   "outputs": [
    {
     "name": "stderr",
     "output_type": "stream",
     "text": [
      "/Users/yutian/anaconda/lib/python3.6/site-packages/ipykernel/__main__.py:3: FutureWarning: sort(columns=....) is deprecated, use sort_values(by=.....)\n",
      "  app.launch_new_instance()\n"
     ]
    },
    {
     "data": {
      "text/html": [
       "<div>\n",
       "<table border=\"1\" class=\"dataframe\">\n",
       "  <thead>\n",
       "    <tr style=\"text-align: right;\">\n",
       "      <th></th>\n",
       "      <th>id</th>\n",
       "      <th>account</th>\n",
       "      <th>filter</th>\n",
       "      <th>likes</th>\n",
       "      <th>comments</th>\n",
       "      <th>caption</th>\n",
       "      <th>timestamp</th>\n",
       "      <th>focus</th>\n",
       "      <th>social_actions</th>\n",
       "    </tr>\n",
       "  </thead>\n",
       "  <tbody>\n",
       "    <tr>\n",
       "      <th>10658</th>\n",
       "      <td>31537</td>\n",
       "      <td>nike</td>\n",
       "      <td>Sierra</td>\n",
       "      <td>177037</td>\n",
       "      <td>3242</td>\n",
       "      <td>Finish the season on your terms. #justdoit</td>\n",
       "      <td>140119 22:18</td>\n",
       "      <td>180279</td>\n",
       "      <td>180279</td>\n",
       "    </tr>\n",
       "    <tr>\n",
       "      <th>11182</th>\n",
       "      <td>26766</td>\n",
       "      <td>nike</td>\n",
       "      <td>Sierra</td>\n",
       "      <td>106291</td>\n",
       "      <td>567</td>\n",
       "      <td>There's only one receiver who's always open.@u...</td>\n",
       "      <td>131027 18:29</td>\n",
       "      <td>106858</td>\n",
       "      <td>106858</td>\n",
       "    </tr>\n",
       "    <tr>\n",
       "      <th>11180</th>\n",
       "      <td>26705</td>\n",
       "      <td>nike</td>\n",
       "      <td>Sierra</td>\n",
       "      <td>103974</td>\n",
       "      <td>370</td>\n",
       "      <td>No gym. No trainer. No excuse. #justdoit@nikew...</td>\n",
       "      <td>131025 19:11</td>\n",
       "      <td>104344</td>\n",
       "      <td>104344</td>\n",
       "    </tr>\n",
       "    <tr>\n",
       "      <th>17631</th>\n",
       "      <td>30798</td>\n",
       "      <td>starbucks</td>\n",
       "      <td>Sierra</td>\n",
       "      <td>92508</td>\n",
       "      <td>844</td>\n",
       "      <td>Sometimes you just need to stay in. #Cozy #Cof...</td>\n",
       "      <td>140103 13:08</td>\n",
       "      <td>93352</td>\n",
       "      <td>93352</td>\n",
       "    </tr>\n",
       "    <tr>\n",
       "      <th>11175</th>\n",
       "      <td>22369</td>\n",
       "      <td>nike</td>\n",
       "      <td>Sierra</td>\n",
       "      <td>90401</td>\n",
       "      <td>408</td>\n",
       "      <td>Make your next run your best run.The @nikerunn...</td>\n",
       "      <td>130912 12:59</td>\n",
       "      <td>90809</td>\n",
       "      <td>90809</td>\n",
       "    </tr>\n",
       "    <tr>\n",
       "      <th>17274</th>\n",
       "      <td>28780</td>\n",
       "      <td>starbucks</td>\n",
       "      <td>Sierra</td>\n",
       "      <td>88863</td>\n",
       "      <td>312</td>\n",
       "      <td>A little piece of home at 37,000 ft.#starbucks...</td>\n",
       "      <td>131127 14:27</td>\n",
       "      <td>89175</td>\n",
       "      <td>89175</td>\n",
       "    </tr>\n",
       "    <tr>\n",
       "      <th>11220</th>\n",
       "      <td>7477</td>\n",
       "      <td>nike</td>\n",
       "      <td>Sierra</td>\n",
       "      <td>85967</td>\n",
       "      <td>536</td>\n",
       "      <td>A hist�ria n�o se escreve sozinha.History does...</td>\n",
       "      <td>130625 12:04</td>\n",
       "      <td>86503</td>\n",
       "      <td>86503</td>\n",
       "    </tr>\n",
       "    <tr>\n",
       "      <th>17248</th>\n",
       "      <td>24237</td>\n",
       "      <td>starbucks</td>\n",
       "      <td>Sierra</td>\n",
       "      <td>74336</td>\n",
       "      <td>310</td>\n",
       "      <td>Follow your #heart. Celebrate what you #love. ...</td>\n",
       "      <td>130930 14:52</td>\n",
       "      <td>74646</td>\n",
       "      <td>74646</td>\n",
       "    </tr>\n",
       "    <tr>\n",
       "      <th>17558</th>\n",
       "      <td>25366</td>\n",
       "      <td>starbucks</td>\n",
       "      <td>Willow</td>\n",
       "      <td>73481</td>\n",
       "      <td>273</td>\n",
       "      <td>Let weather be your excuse to #slowdown and #s...</td>\n",
       "      <td>131017 16:07</td>\n",
       "      <td>73754</td>\n",
       "      <td>73754</td>\n",
       "    </tr>\n",
       "    <tr>\n",
       "      <th>17237</th>\n",
       "      <td>29043</td>\n",
       "      <td>starbucks</td>\n",
       "      <td>Willow</td>\n",
       "      <td>67709</td>\n",
       "      <td>226</td>\n",
       "      <td>Perfect cup. #PourOver #Coffee #Love</td>\n",
       "      <td>131204 13:31</td>\n",
       "      <td>67935</td>\n",
       "      <td>67935</td>\n",
       "    </tr>\n",
       "  </tbody>\n",
       "</table>\n",
       "</div>"
      ],
      "text/plain": [
       "          id    account  filter   likes  comments  \\\n",
       "10658  31537       nike  Sierra  177037      3242   \n",
       "11182  26766       nike  Sierra  106291       567   \n",
       "11180  26705       nike  Sierra  103974       370   \n",
       "17631  30798  starbucks  Sierra   92508       844   \n",
       "11175  22369       nike  Sierra   90401       408   \n",
       "17274  28780  starbucks  Sierra   88863       312   \n",
       "11220   7477       nike  Sierra   85967       536   \n",
       "17248  24237  starbucks  Sierra   74336       310   \n",
       "17558  25366  starbucks  Willow   73481       273   \n",
       "17237  29043  starbucks  Willow   67709       226   \n",
       "\n",
       "                                                 caption     timestamp  \\\n",
       "10658         Finish the season on your terms. #justdoit  140119 22:18   \n",
       "11182  There's only one receiver who's always open.@u...  131027 18:29   \n",
       "11180  No gym. No trainer. No excuse. #justdoit@nikew...  131025 19:11   \n",
       "17631  Sometimes you just need to stay in. #Cozy #Cof...  140103 13:08   \n",
       "11175  Make your next run your best run.The @nikerunn...  130912 12:59   \n",
       "17274  A little piece of home at 37,000 ft.#starbucks...  131127 14:27   \n",
       "11220  A hist�ria n�o se escreve sozinha.History does...  130625 12:04   \n",
       "17248  Follow your #heart. Celebrate what you #love. ...  130930 14:52   \n",
       "17558  Let weather be your excuse to #slowdown and #s...  131017 16:07   \n",
       "17237               Perfect cup. #PourOver #Coffee #Love  131204 13:31   \n",
       "\n",
       "        focus  social_actions  \n",
       "10658  180279          180279  \n",
       "11182  106858          106858  \n",
       "11180  104344          104344  \n",
       "17631   93352           93352  \n",
       "11175   90809           90809  \n",
       "17274   89175           89175  \n",
       "11220   86503           86503  \n",
       "17248   74646           74646  \n",
       "17558   73754           73754  \n",
       "17237   67935           67935  "
      ]
     },
     "execution_count": 66,
     "metadata": {},
     "output_type": "execute_result"
    }
   ],
   "source": [
    "# Top pics using Willow and Sierra filter\n",
    "filter_top_filters = instagram_data['filter'].isin([\"Willow\", \"Sierra\"])\n",
    "instagram_data[filter_top_filters].sort('social_actions', ascending=False)[:10]"
   ]
  },
  {
   "cell_type": "code",
   "execution_count": null,
   "metadata": {
    "collapsed": true
   },
   "outputs": [],
   "source": []
  }
 ],
 "metadata": {
  "kernelspec": {
   "display_name": "Python 3",
   "language": "python",
   "name": "python3"
  },
  "language_info": {
   "codemirror_mode": {
    "name": "ipython",
    "version": 3
   },
   "file_extension": ".py",
   "mimetype": "text/x-python",
   "name": "python",
   "nbconvert_exporter": "python",
   "pygments_lexer": "ipython3",
   "version": "3.6.0"
  }
 },
 "nbformat": 4,
 "nbformat_minor": 2
}
